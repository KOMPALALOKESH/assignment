{
  "metadata": {
    "kernelspec": {
      "language": "python",
      "display_name": "Python 3",
      "name": "python3"
    },
    "language_info": {
      "name": "python",
      "version": "3.10.13",
      "mimetype": "text/x-python",
      "codemirror_mode": {
        "name": "ipython",
        "version": 3
      },
      "pygments_lexer": "ipython3",
      "nbconvert_exporter": "python",
      "file_extension": ".py"
    },
    "kaggle": {
      "accelerator": "none",
      "dataSources": [],
      "dockerImageVersionId": 30699,
      "isInternetEnabled": true,
      "language": "python",
      "sourceType": "notebook",
      "isGpuEnabled": false
    },
    "colab": {
      "provenance": [],
      "include_colab_link": true
    }
  },
  "nbformat_minor": 0,
  "nbformat": 4,
  "cells": [
    {
      "cell_type": "markdown",
      "metadata": {
        "id": "view-in-github",
        "colab_type": "text"
      },
      "source": [
        "<a href=\"https://colab.research.google.com/github/KOMPALALOKESH/assignment/blob/main/assignment.ipynb\" target=\"_parent\"><img src=\"https://colab.research.google.com/assets/colab-badge.svg\" alt=\"Open In Colab\"/></a>"
      ]
    },
    {
      "cell_type": "code",
      "source": [
        "!git clone 'https://github.com/KOMPALALOKESH/assignment'"
      ],
      "metadata": {
        "execution": {
          "iopub.status.busy": "2024-05-06T13:27:58.285246Z",
          "iopub.execute_input": "2024-05-06T13:27:58.285803Z",
          "iopub.status.idle": "2024-05-06T13:28:03.056774Z",
          "shell.execute_reply.started": "2024-05-06T13:27:58.28577Z",
          "shell.execute_reply": "2024-05-06T13:28:03.055328Z"
        },
        "trusted": true,
        "id": "JPFfiRNUa1HL",
        "outputId": "b9d0e266-0cff-4142-874b-2324af14016e",
        "colab": {
          "base_uri": "https://localhost:8080/"
        }
      },
      "execution_count": null,
      "outputs": [
        {
          "output_type": "stream",
          "name": "stdout",
          "text": [
            "Cloning into 'assignment'...\n",
            "remote: Enumerating objects: 18, done.\u001b[K\n",
            "remote: Counting objects: 100% (13/13), done.\u001b[K\n",
            "remote: Compressing objects: 100% (11/11), done.\u001b[K\n",
            "remote: Total 18 (delta 4), reused 3 (delta 0), pack-reused 5\u001b[K\n",
            "Receiving objects: 100% (18/18), 42.60 MiB | 35.01 MiB/s, done.\n",
            "Resolving deltas: 100% (4/4), done.\n"
          ]
        }
      ]
    },
    {
      "cell_type": "code",
      "source": [
        "%cd '/content/assignment'"
      ],
      "metadata": {
        "execution": {
          "iopub.status.busy": "2024-05-06T13:28:03.058579Z",
          "iopub.execute_input": "2024-05-06T13:28:03.058964Z",
          "iopub.status.idle": "2024-05-06T13:28:03.067026Z",
          "shell.execute_reply.started": "2024-05-06T13:28:03.058932Z",
          "shell.execute_reply": "2024-05-06T13:28:03.065874Z"
        },
        "trusted": true,
        "id": "-wasHcnka1HM",
        "outputId": "ca4a80c4-79f2-4ca9-cbfe-ab97671a2015",
        "colab": {
          "base_uri": "https://localhost:8080/"
        }
      },
      "execution_count": null,
      "outputs": [
        {
          "output_type": "stream",
          "name": "stdout",
          "text": [
            "[Errno 2] No such file or directory: '/kaggle/working/assignment'\n",
            "/content\n"
          ]
        }
      ]
    },
    {
      "cell_type": "code",
      "source": [
        "# import pandas lib as pd\n",
        "import pandas as pd\n",
        "\n",
        "# read by default 1st sheet of an excel file\n",
        "df = pd.read_excel('/content/assignment/data.xlsx')"
      ],
      "metadata": {
        "execution": {
          "iopub.status.busy": "2024-05-06T13:28:03.069727Z",
          "iopub.execute_input": "2024-05-06T13:28:03.070081Z",
          "iopub.status.idle": "2024-05-06T13:28:59.2211Z",
          "shell.execute_reply.started": "2024-05-06T13:28:03.070052Z",
          "shell.execute_reply": "2024-05-06T13:28:59.219619Z"
        },
        "trusted": true,
        "id": "FIrfepWsa1HM",
        "outputId": "c4d1d0af-09ca-48f4-a87f-e316e0e9daaf",
        "colab": {
          "base_uri": "https://localhost:8080/",
          "height": 339
        }
      },
      "execution_count": null,
      "outputs": [
        {
          "output_type": "error",
          "ename": "FileNotFoundError",
          "evalue": "[Errno 2] No such file or directory: '/kaggle/working/assignment/data.xlsx'",
          "traceback": [
            "\u001b[0;31m---------------------------------------------------------------------------\u001b[0m",
            "\u001b[0;31mFileNotFoundError\u001b[0m                         Traceback (most recent call last)",
            "\u001b[0;32m<ipython-input-5-a741ed1dcdfe>\u001b[0m in \u001b[0;36m<cell line: 5>\u001b[0;34m()\u001b[0m\n\u001b[1;32m      3\u001b[0m \u001b[0;34m\u001b[0m\u001b[0m\n\u001b[1;32m      4\u001b[0m \u001b[0;31m# read by default 1st sheet of an excel file\u001b[0m\u001b[0;34m\u001b[0m\u001b[0;34m\u001b[0m\u001b[0m\n\u001b[0;32m----> 5\u001b[0;31m \u001b[0mdf\u001b[0m \u001b[0;34m=\u001b[0m \u001b[0mpd\u001b[0m\u001b[0;34m.\u001b[0m\u001b[0mread_excel\u001b[0m\u001b[0;34m(\u001b[0m\u001b[0;34m'/kaggle/working/assignment/data.xlsx'\u001b[0m\u001b[0;34m)\u001b[0m\u001b[0;34m\u001b[0m\u001b[0;34m\u001b[0m\u001b[0m\n\u001b[0m",
            "\u001b[0;32m/usr/local/lib/python3.10/dist-packages/pandas/io/excel/_base.py\u001b[0m in \u001b[0;36mread_excel\u001b[0;34m(io, sheet_name, header, names, index_col, usecols, dtype, engine, converters, true_values, false_values, skiprows, nrows, na_values, keep_default_na, na_filter, verbose, parse_dates, date_parser, date_format, thousands, decimal, comment, skipfooter, storage_options, dtype_backend)\u001b[0m\n\u001b[1;32m    476\u001b[0m     \u001b[0;32mif\u001b[0m \u001b[0;32mnot\u001b[0m \u001b[0misinstance\u001b[0m\u001b[0;34m(\u001b[0m\u001b[0mio\u001b[0m\u001b[0;34m,\u001b[0m \u001b[0mExcelFile\u001b[0m\u001b[0;34m)\u001b[0m\u001b[0;34m:\u001b[0m\u001b[0;34m\u001b[0m\u001b[0;34m\u001b[0m\u001b[0m\n\u001b[1;32m    477\u001b[0m         \u001b[0mshould_close\u001b[0m \u001b[0;34m=\u001b[0m \u001b[0;32mTrue\u001b[0m\u001b[0;34m\u001b[0m\u001b[0;34m\u001b[0m\u001b[0m\n\u001b[0;32m--> 478\u001b[0;31m         \u001b[0mio\u001b[0m \u001b[0;34m=\u001b[0m \u001b[0mExcelFile\u001b[0m\u001b[0;34m(\u001b[0m\u001b[0mio\u001b[0m\u001b[0;34m,\u001b[0m \u001b[0mstorage_options\u001b[0m\u001b[0;34m=\u001b[0m\u001b[0mstorage_options\u001b[0m\u001b[0;34m,\u001b[0m \u001b[0mengine\u001b[0m\u001b[0;34m=\u001b[0m\u001b[0mengine\u001b[0m\u001b[0;34m)\u001b[0m\u001b[0;34m\u001b[0m\u001b[0;34m\u001b[0m\u001b[0m\n\u001b[0m\u001b[1;32m    479\u001b[0m     \u001b[0;32melif\u001b[0m \u001b[0mengine\u001b[0m \u001b[0;32mand\u001b[0m \u001b[0mengine\u001b[0m \u001b[0;34m!=\u001b[0m \u001b[0mio\u001b[0m\u001b[0;34m.\u001b[0m\u001b[0mengine\u001b[0m\u001b[0;34m:\u001b[0m\u001b[0;34m\u001b[0m\u001b[0;34m\u001b[0m\u001b[0m\n\u001b[1;32m    480\u001b[0m         raise ValueError(\n",
            "\u001b[0;32m/usr/local/lib/python3.10/dist-packages/pandas/io/excel/_base.py\u001b[0m in \u001b[0;36m__init__\u001b[0;34m(self, path_or_buffer, engine, storage_options)\u001b[0m\n\u001b[1;32m   1494\u001b[0m                 \u001b[0mext\u001b[0m \u001b[0;34m=\u001b[0m \u001b[0;34m\"xls\"\u001b[0m\u001b[0;34m\u001b[0m\u001b[0;34m\u001b[0m\u001b[0m\n\u001b[1;32m   1495\u001b[0m             \u001b[0;32melse\u001b[0m\u001b[0;34m:\u001b[0m\u001b[0;34m\u001b[0m\u001b[0;34m\u001b[0m\u001b[0m\n\u001b[0;32m-> 1496\u001b[0;31m                 ext = inspect_excel_format(\n\u001b[0m\u001b[1;32m   1497\u001b[0m                     \u001b[0mcontent_or_path\u001b[0m\u001b[0;34m=\u001b[0m\u001b[0mpath_or_buffer\u001b[0m\u001b[0;34m,\u001b[0m \u001b[0mstorage_options\u001b[0m\u001b[0;34m=\u001b[0m\u001b[0mstorage_options\u001b[0m\u001b[0;34m\u001b[0m\u001b[0;34m\u001b[0m\u001b[0m\n\u001b[1;32m   1498\u001b[0m                 )\n",
            "\u001b[0;32m/usr/local/lib/python3.10/dist-packages/pandas/io/excel/_base.py\u001b[0m in \u001b[0;36minspect_excel_format\u001b[0;34m(content_or_path, storage_options)\u001b[0m\n\u001b[1;32m   1369\u001b[0m         \u001b[0mcontent_or_path\u001b[0m \u001b[0;34m=\u001b[0m \u001b[0mBytesIO\u001b[0m\u001b[0;34m(\u001b[0m\u001b[0mcontent_or_path\u001b[0m\u001b[0;34m)\u001b[0m\u001b[0;34m\u001b[0m\u001b[0;34m\u001b[0m\u001b[0m\n\u001b[1;32m   1370\u001b[0m \u001b[0;34m\u001b[0m\u001b[0m\n\u001b[0;32m-> 1371\u001b[0;31m     with get_handle(\n\u001b[0m\u001b[1;32m   1372\u001b[0m         \u001b[0mcontent_or_path\u001b[0m\u001b[0;34m,\u001b[0m \u001b[0;34m\"rb\"\u001b[0m\u001b[0;34m,\u001b[0m \u001b[0mstorage_options\u001b[0m\u001b[0;34m=\u001b[0m\u001b[0mstorage_options\u001b[0m\u001b[0;34m,\u001b[0m \u001b[0mis_text\u001b[0m\u001b[0;34m=\u001b[0m\u001b[0;32mFalse\u001b[0m\u001b[0;34m\u001b[0m\u001b[0;34m\u001b[0m\u001b[0m\n\u001b[1;32m   1373\u001b[0m     ) as handle:\n",
            "\u001b[0;32m/usr/local/lib/python3.10/dist-packages/pandas/io/common.py\u001b[0m in \u001b[0;36mget_handle\u001b[0;34m(path_or_buf, mode, encoding, compression, memory_map, is_text, errors, storage_options)\u001b[0m\n\u001b[1;32m    866\u001b[0m         \u001b[0;32melse\u001b[0m\u001b[0;34m:\u001b[0m\u001b[0;34m\u001b[0m\u001b[0;34m\u001b[0m\u001b[0m\n\u001b[1;32m    867\u001b[0m             \u001b[0;31m# Binary mode\u001b[0m\u001b[0;34m\u001b[0m\u001b[0;34m\u001b[0m\u001b[0m\n\u001b[0;32m--> 868\u001b[0;31m             \u001b[0mhandle\u001b[0m \u001b[0;34m=\u001b[0m \u001b[0mopen\u001b[0m\u001b[0;34m(\u001b[0m\u001b[0mhandle\u001b[0m\u001b[0;34m,\u001b[0m \u001b[0mioargs\u001b[0m\u001b[0;34m.\u001b[0m\u001b[0mmode\u001b[0m\u001b[0;34m)\u001b[0m\u001b[0;34m\u001b[0m\u001b[0;34m\u001b[0m\u001b[0m\n\u001b[0m\u001b[1;32m    869\u001b[0m         \u001b[0mhandles\u001b[0m\u001b[0;34m.\u001b[0m\u001b[0mappend\u001b[0m\u001b[0;34m(\u001b[0m\u001b[0mhandle\u001b[0m\u001b[0;34m)\u001b[0m\u001b[0;34m\u001b[0m\u001b[0;34m\u001b[0m\u001b[0m\n\u001b[1;32m    870\u001b[0m \u001b[0;34m\u001b[0m\u001b[0m\n",
            "\u001b[0;31mFileNotFoundError\u001b[0m: [Errno 2] No such file or directory: '/kaggle/working/assignment/data.xlsx'"
          ]
        }
      ]
    },
    {
      "cell_type": "markdown",
      "source": [
        "## 1.Feature Engineering"
      ],
      "metadata": {
        "id": "HqdqVybEa1HM"
      }
    },
    {
      "cell_type": "code",
      "source": [
        "import ast\n",
        "from datetime import datetime\n",
        "\n",
        "feature_engineering_df = df[['amenities', 'host_since', 'last_review']]"
      ],
      "metadata": {
        "execution": {
          "iopub.status.busy": "2024-05-06T13:28:59.222697Z",
          "iopub.execute_input": "2024-05-06T13:28:59.223311Z",
          "iopub.status.idle": "2024-05-06T13:28:59.28332Z",
          "shell.execute_reply.started": "2024-05-06T13:28:59.223265Z",
          "shell.execute_reply": "2024-05-06T13:28:59.281917Z"
        },
        "trusted": true,
        "id": "qJx9skBxa1HN"
      },
      "execution_count": null,
      "outputs": []
    },
    {
      "cell_type": "markdown",
      "source": [
        "### `Aminities_Count`"
      ],
      "metadata": {
        "id": "VxuHMYESa1HN"
      }
    },
    {
      "cell_type": "code",
      "source": [
        "feature_engineering_df['amenities'] = feature_engineering_df['amenities'].str.replace('\"','').str.split(\"{\").str[1].str.rstrip('}').str.split(\",\")\n",
        "feature_engineering_df['amenities_count'] = feature_engineering_df['amenities'].apply(len)"
      ],
      "metadata": {
        "execution": {
          "iopub.status.busy": "2024-05-06T13:28:59.28488Z",
          "iopub.execute_input": "2024-05-06T13:28:59.285327Z",
          "iopub.status.idle": "2024-05-06T13:28:59.994304Z",
          "shell.execute_reply.started": "2024-05-06T13:28:59.285292Z",
          "shell.execute_reply": "2024-05-06T13:28:59.993081Z"
        },
        "trusted": true,
        "id": "vS3kU-1Fa1HN"
      },
      "execution_count": null,
      "outputs": []
    },
    {
      "cell_type": "markdown",
      "source": [
        "### `Host_Tenure`"
      ],
      "metadata": {
        "id": "rfOdS5Hoa1HO"
      }
    },
    {
      "cell_type": "code",
      "source": [
        "# Step 1: Convert 'host_since' column to datetime\n",
        "feature_engineering_df['host_since'] = pd.to_datetime(feature_engineering_df['host_since'])\n",
        "\n",
        "# Step 2: Replace NA values in 'host_since' with the earliest date available\n",
        "earliest_date = feature_engineering_df['host_since'].min()\n",
        "feature_engineering_df['host_since'].fillna(earliest_date, inplace=True)\n",
        "\n",
        "# Step 3: Calculate the tenure in days\n",
        "current_date = datetime.now()\n",
        "feature_engineering_df['Host_Tenure'] = (current_date - feature_engineering_df['host_since']).dt.days\n",
        "\n",
        "# Step 4: Convert tenure from days to years\n",
        "feature_engineering_df['Host_Tenure'] = (feature_engineering_df['Host_Tenure'] / 365).astype(int)"
      ],
      "metadata": {
        "execution": {
          "iopub.status.busy": "2024-05-06T13:28:59.995956Z",
          "iopub.execute_input": "2024-05-06T13:28:59.996402Z",
          "iopub.status.idle": "2024-05-06T13:29:00.234032Z",
          "shell.execute_reply.started": "2024-05-06T13:28:59.996361Z",
          "shell.execute_reply": "2024-05-06T13:29:00.232813Z"
        },
        "trusted": true,
        "id": "H__GfDzua1HO"
      },
      "execution_count": null,
      "outputs": []
    },
    {
      "cell_type": "markdown",
      "source": [
        "### `Days_Since_Last_Review`"
      ],
      "metadata": {
        "id": "UkGwiHjza1HO"
      }
    },
    {
      "cell_type": "code",
      "source": [
        "# Convert 'last_review' to datetime\n",
        "feature_engineering_df['last_review'] = pd.to_datetime(feature_engineering_df['last_review'])\n",
        "\n",
        "# Calculate today's date\n",
        "today = datetime.today()\n",
        "\n",
        "# Calculate Days_Since_Last_Review\n",
        "feature_engineering_df['Days_Since_Last_Review'] = (today - feature_engineering_df['last_review']).dt.days"
      ],
      "metadata": {
        "execution": {
          "iopub.status.busy": "2024-05-06T13:29:00.235546Z",
          "iopub.execute_input": "2024-05-06T13:29:00.235954Z",
          "iopub.status.idle": "2024-05-06T13:29:00.266965Z",
          "shell.execute_reply.started": "2024-05-06T13:29:00.235915Z",
          "shell.execute_reply": "2024-05-06T13:29:00.265737Z"
        },
        "trusted": true,
        "id": "OhTr-3XLa1HO"
      },
      "execution_count": null,
      "outputs": []
    },
    {
      "cell_type": "code",
      "source": [
        "# Handling NaN values in 'Days_Since_Last_Review'\n",
        "feature_engineering_df['Days_Since_Last_Review'].fillna(-1, inplace=True)"
      ],
      "metadata": {
        "execution": {
          "iopub.status.busy": "2024-05-06T13:29:00.268603Z",
          "iopub.execute_input": "2024-05-06T13:29:00.268943Z",
          "iopub.status.idle": "2024-05-06T13:29:00.278154Z",
          "shell.execute_reply.started": "2024-05-06T13:29:00.268915Z",
          "shell.execute_reply": "2024-05-06T13:29:00.276565Z"
        },
        "trusted": true,
        "id": "TQlJXAHxa1HO"
      },
      "execution_count": null,
      "outputs": []
    },
    {
      "cell_type": "markdown",
      "source": [
        "## 2.Exploratory Data Analysis (EDA)"
      ],
      "metadata": {
        "id": "Cb42Y99Za1HP"
      }
    },
    {
      "cell_type": "code",
      "source": [
        "EDA_df = df[['log_price', 'property_type', 'room_type', 'accommodates', 'number_of_reviews']]"
      ],
      "metadata": {
        "execution": {
          "iopub.status.busy": "2024-05-06T13:29:00.283301Z",
          "iopub.execute_input": "2024-05-06T13:29:00.283708Z",
          "iopub.status.idle": "2024-05-06T13:29:00.295616Z",
          "shell.execute_reply.started": "2024-05-06T13:29:00.283678Z",
          "shell.execute_reply": "2024-05-06T13:29:00.29446Z"
        },
        "trusted": true,
        "id": "VmajTraia1HP"
      },
      "execution_count": null,
      "outputs": []
    },
    {
      "cell_type": "markdown",
      "source": [
        "### Categorical and Numerical Correlation"
      ],
      "metadata": {
        "id": "IJn5BxoJa1HP"
      }
    },
    {
      "cell_type": "code",
      "source": [
        "import pandas as pd\n",
        "\n",
        "# Perform one-hot encoding for categorical variables\n",
        "EDA_df_encoded = pd.get_dummies(EDA_df, columns=['property_type', 'room_type'])\n",
        "\n",
        "# Correlation analysis\n",
        "corr_matrix = EDA_df_encoded.corr()"
      ],
      "metadata": {
        "execution": {
          "iopub.status.busy": "2024-05-06T13:29:00.297094Z",
          "iopub.execute_input": "2024-05-06T13:29:00.297496Z",
          "iopub.status.idle": "2024-05-06T13:29:00.696411Z",
          "shell.execute_reply.started": "2024-05-06T13:29:00.297464Z",
          "shell.execute_reply": "2024-05-06T13:29:00.695153Z"
        },
        "trusted": true,
        "id": "0uBjjCCOa1HP"
      },
      "execution_count": null,
      "outputs": []
    },
    {
      "cell_type": "markdown",
      "source": [
        "### Statistical Plots"
      ],
      "metadata": {
        "id": "Wh_hu7qHa1HP"
      }
    },
    {
      "cell_type": "code",
      "source": [
        "import seaborn as sns\n",
        "import matplotlib.pyplot as plt\n",
        "\n",
        "plt.figure(figsize=(15, 12))\n",
        "\n",
        "# Correlation Matrix\n",
        "sns.heatmap(corr_matrix, cmap='coolwarm')\n",
        "\n",
        "plt.title('Correlation Matrix')\n",
        "plt.show()"
      ],
      "metadata": {
        "execution": {
          "iopub.status.busy": "2024-05-06T13:29:00.698334Z",
          "iopub.execute_input": "2024-05-06T13:29:00.698707Z",
          "iopub.status.idle": "2024-05-06T13:29:02.817544Z",
          "shell.execute_reply.started": "2024-05-06T13:29:00.698675Z",
          "shell.execute_reply": "2024-05-06T13:29:02.816253Z"
        },
        "trusted": true,
        "id": "FQbaYlYma1HP"
      },
      "execution_count": null,
      "outputs": []
    },
    {
      "cell_type": "code",
      "source": [
        "# Histogram for log_price\n",
        "plt.figure(figsize=(8, 5))\n",
        "sns.histplot(df['log_price'], bins=20, kde=True, color='blue')\n",
        "plt.title('Distribution of log_price')\n",
        "plt.xlabel('log_price')\n",
        "plt.ylabel('Frequency')\n",
        "plt.show()"
      ],
      "metadata": {
        "execution": {
          "iopub.status.busy": "2024-05-06T13:29:02.818986Z",
          "iopub.execute_input": "2024-05-06T13:29:02.819422Z",
          "iopub.status.idle": "2024-05-06T13:29:03.678412Z",
          "shell.execute_reply.started": "2024-05-06T13:29:02.819381Z",
          "shell.execute_reply": "2024-05-06T13:29:03.677089Z"
        },
        "trusted": true,
        "id": "SzLPt159a1HQ"
      },
      "execution_count": null,
      "outputs": []
    },
    {
      "cell_type": "code",
      "source": [
        "# Scatter Plot between log_price and accommodates\n",
        "plt.figure(figsize=(15, 8))\n",
        "sns.scatterplot(x='accommodates', y='log_price', data=df)\n",
        "plt.title('Scatter Plot: log_price vs accommodates')\n",
        "plt.xlabel('Accommodates')\n",
        "plt.ylabel('log_price')\n",
        "plt.show()"
      ],
      "metadata": {
        "execution": {
          "iopub.status.busy": "2024-05-06T13:29:03.679844Z",
          "iopub.execute_input": "2024-05-06T13:29:03.680177Z",
          "iopub.status.idle": "2024-05-06T13:29:04.258992Z",
          "shell.execute_reply.started": "2024-05-06T13:29:03.680149Z",
          "shell.execute_reply": "2024-05-06T13:29:04.257724Z"
        },
        "trusted": true,
        "id": "s9mlml0Ua1HQ"
      },
      "execution_count": null,
      "outputs": []
    },
    {
      "cell_type": "markdown",
      "source": [
        "## 3.Geospatial Analysis"
      ],
      "metadata": {
        "id": "NwRpNJvza1HQ"
      }
    },
    {
      "cell_type": "code",
      "source": [
        "geo_spatial_df = df[['log_price', 'latitude','longitude', 'neighbourhood']]\n",
        "\n",
        "geo_spatial_df.info()"
      ],
      "metadata": {
        "execution": {
          "iopub.status.busy": "2024-05-06T13:29:04.260563Z",
          "iopub.execute_input": "2024-05-06T13:29:04.260958Z",
          "iopub.status.idle": "2024-05-06T13:29:04.295539Z",
          "shell.execute_reply.started": "2024-05-06T13:29:04.260921Z",
          "shell.execute_reply": "2024-05-06T13:29:04.294367Z"
        },
        "trusted": true,
        "id": "R7f2CWUNa1HQ"
      },
      "execution_count": null,
      "outputs": []
    },
    {
      "cell_type": "code",
      "source": [
        "import matplotlib.pyplot as plt\n",
        "\n",
        "# Filter out rows with missing neighbourhood data\n",
        "geo_spatial_df_filtered = geo_spatial_df.dropna(subset=['neighbourhood'])\n",
        "\n",
        "# Filter log_price based on non-null neighbourhood rows\n",
        "log_price_filtered = df.loc[geo_spatial_df_filtered.index, 'log_price']\n",
        "\n",
        "# Plot listings on a map colored by log_price\n",
        "plt.figure(figsize=(12, 4))\n",
        "plt.scatter(geo_spatial_df_filtered['longitude'], geo_spatial_df_filtered['latitude'], c=log_price_filtered, cmap='viridis', alpha=0.5)\n",
        "plt.colorbar(label='log_price')\n",
        "plt.xlabel('Longitude')\n",
        "plt.ylabel('Latitude')\n",
        "plt.title('Listings Distribution (Colored by log_price)')\n",
        "plt.grid(True)\n",
        "plt.show()"
      ],
      "metadata": {
        "execution": {
          "iopub.status.busy": "2024-05-06T13:29:04.297615Z",
          "iopub.execute_input": "2024-05-06T13:29:04.297985Z",
          "iopub.status.idle": "2024-05-06T13:29:06.315362Z",
          "shell.execute_reply.started": "2024-05-06T13:29:04.297953Z",
          "shell.execute_reply": "2024-05-06T13:29:06.314041Z"
        },
        "trusted": true,
        "id": "5b37Cdqaa1HQ"
      },
      "execution_count": null,
      "outputs": []
    },
    {
      "cell_type": "markdown",
      "source": [
        "## 4.Sentiment Analysis on Textual Data"
      ],
      "metadata": {
        "id": "Nmk5SqYma1HQ"
      }
    },
    {
      "cell_type": "code",
      "source": [
        "import nltk\n",
        "from nltk.sentiment.vader import SentimentIntensityAnalyzer\n",
        "\n",
        "# Download VADER lexicon if not already downloaded\n",
        "nltk.download('vader_lexicon')\n",
        "\n",
        "# Initialize VADER sentiment analyzer\n",
        "sid = SentimentIntensityAnalyzer()"
      ],
      "metadata": {
        "execution": {
          "iopub.status.busy": "2024-05-06T13:29:06.316896Z",
          "iopub.execute_input": "2024-05-06T13:29:06.317319Z",
          "iopub.status.idle": "2024-05-06T13:29:07.55876Z",
          "shell.execute_reply.started": "2024-05-06T13:29:06.317277Z",
          "shell.execute_reply": "2024-05-06T13:29:07.557591Z"
        },
        "trusted": true,
        "id": "RfroNrOBa1HQ"
      },
      "execution_count": null,
      "outputs": []
    },
    {
      "cell_type": "markdown",
      "source": [
        "### Polarity scores of Text"
      ],
      "metadata": {
        "id": "h7tUG92Da1HQ"
      }
    },
    {
      "cell_type": "code",
      "source": [
        "# Function to calculate sentiment scores\n",
        "def get_sentiment_score(text):\n",
        "    # Convert to string if not already\n",
        "    text = str(text)\n",
        "    # Get sentiment scores\n",
        "    scores = sid.polarity_scores(text)\n",
        "    # Return compound score (normalized score between -1 and 1)\n",
        "    return scores['compound']\n",
        "\n",
        "# Apply sentiment analysis to the 'description' column\n",
        "df['sentiment_score'] = df['description'].apply(get_sentiment_score)"
      ],
      "metadata": {
        "execution": {
          "iopub.status.busy": "2024-05-06T13:29:07.560337Z",
          "iopub.execute_input": "2024-05-06T13:29:07.560763Z",
          "iopub.status.idle": "2024-05-06T13:31:35.396229Z",
          "shell.execute_reply.started": "2024-05-06T13:29:07.560723Z",
          "shell.execute_reply": "2024-05-06T13:31:35.394976Z"
        },
        "trusted": true,
        "id": "ywCFqUEVa1HQ"
      },
      "execution_count": null,
      "outputs": []
    },
    {
      "cell_type": "markdown",
      "source": [
        "### LogPrice vs SentimentScore"
      ],
      "metadata": {
        "id": "riuj0DKga1HR"
      }
    },
    {
      "cell_type": "code",
      "source": [
        "# Check if sentiment score influences listing prices\n",
        "# For example, you can plot sentiment score against log_price\n",
        "plt.figure(figsize=(15, 6))\n",
        "sns.scatterplot(x='sentiment_score', y='log_price', data=df)\n",
        "plt.title('Sentiment Score vs. Log Price')\n",
        "plt.xlabel('Sentiment Score')\n",
        "plt.ylabel('Log Price')\n",
        "plt.show()"
      ],
      "metadata": {
        "execution": {
          "iopub.status.busy": "2024-05-06T13:31:35.397694Z",
          "iopub.execute_input": "2024-05-06T13:31:35.398116Z",
          "iopub.status.idle": "2024-05-06T13:31:35.935602Z",
          "shell.execute_reply.started": "2024-05-06T13:31:35.398079Z",
          "shell.execute_reply": "2024-05-06T13:31:35.934255Z"
        },
        "trusted": true,
        "id": "VKzFNzOXa1HR"
      },
      "execution_count": null,
      "outputs": []
    },
    {
      "cell_type": "markdown",
      "source": [
        "## 5.Aminities Anlaysis"
      ],
      "metadata": {
        "id": "lx9O2iCja1HR"
      }
    },
    {
      "cell_type": "markdown",
      "source": [
        "### Parsing"
      ],
      "metadata": {
        "id": "hStEbktra1HR"
      }
    },
    {
      "cell_type": "code",
      "source": [
        "import pandas as pd\n",
        "from scipy.stats import ttest_ind\n",
        "from sklearn.preprocessing import MultiLabelBinarizer\n",
        "\n",
        "# Assuming df contains the DataFrame with the listings data\n",
        "\n",
        "# Step 1: Parse Amenities\n",
        "df['amenities'] = df['amenities'].str.replace('\"','').str.split(\"{\").str[1].str.rstrip('}').str.split(\",\")"
      ],
      "metadata": {
        "execution": {
          "iopub.status.busy": "2024-05-06T13:31:35.937231Z",
          "iopub.execute_input": "2024-05-06T13:31:35.937809Z",
          "iopub.status.idle": "2024-05-06T13:31:36.990545Z",
          "shell.execute_reply.started": "2024-05-06T13:31:35.937765Z",
          "shell.execute_reply": "2024-05-06T13:31:36.98939Z"
        },
        "trusted": true,
        "id": "1i5zyxwza1HR"
      },
      "execution_count": null,
      "outputs": []
    },
    {
      "cell_type": "markdown",
      "source": [
        "### Encoding"
      ],
      "metadata": {
        "id": "Keo2ZVcDa1HR"
      }
    },
    {
      "cell_type": "code",
      "source": [
        "# Step 2: Encode Amenities\n",
        "mlb = MultiLabelBinarizer()\n",
        "amenities_encoded = pd.DataFrame(mlb.fit_transform(df['amenities']), columns=mlb.classes_, index=df.index)\n",
        "df_encoded = pd.concat([df, amenities_encoded], axis=1)"
      ],
      "metadata": {
        "execution": {
          "iopub.status.busy": "2024-05-06T13:31:36.99194Z",
          "iopub.execute_input": "2024-05-06T13:31:36.992339Z",
          "iopub.status.idle": "2024-05-06T13:31:37.847666Z",
          "shell.execute_reply.started": "2024-05-06T13:31:36.992307Z",
          "shell.execute_reply": "2024-05-06T13:31:37.846263Z"
        },
        "trusted": true,
        "id": "GzFIN-C2a1HR"
      },
      "execution_count": null,
      "outputs": []
    },
    {
      "cell_type": "markdown",
      "source": [
        "### Correlation Analysis"
      ],
      "metadata": {
        "id": "y8f1ZxYZa1HS"
      }
    },
    {
      "cell_type": "code",
      "source": [
        "# Step 3: Correlation Analysis\n",
        "numeric_columns = df_encoded.select_dtypes(include=['float64', 'int64']).columns\n",
        "correlation_matrix = df_encoded[numeric_columns].corr()['log_price']"
      ],
      "metadata": {
        "execution": {
          "iopub.status.busy": "2024-05-06T13:31:37.849704Z",
          "iopub.execute_input": "2024-05-06T13:31:37.85007Z",
          "iopub.status.idle": "2024-05-06T13:31:42.143053Z",
          "shell.execute_reply.started": "2024-05-06T13:31:37.850039Z",
          "shell.execute_reply": "2024-05-06T13:31:42.141976Z"
        },
        "trusted": true,
        "id": "APGzENgSa1HS"
      },
      "execution_count": null,
      "outputs": []
    },
    {
      "cell_type": "markdown",
      "source": [
        "### Statistical Tests"
      ],
      "metadata": {
        "id": "hJSIwMNUa1HS"
      }
    },
    {
      "cell_type": "code",
      "source": [
        "# Step 4: Statistical Tests\n",
        "significant_amenities = {}\n",
        "for amenity in amenities_encoded.columns:\n",
        "    has_amenity = df_encoded[df_encoded[amenity] == 1]['log_price']\n",
        "    no_amenity = df_encoded[df_encoded[amenity] == 0]['log_price']\n",
        "    p_value = ttest_ind(has_amenity, no_amenity).pvalue\n",
        "    if p_value < 0.05:  # assuming significance level of 0.05\n",
        "        significant_amenities[amenity] = p_value"
      ],
      "metadata": {
        "execution": {
          "iopub.status.busy": "2024-05-06T13:31:42.144738Z",
          "iopub.execute_input": "2024-05-06T13:31:42.1452Z",
          "iopub.status.idle": "2024-05-06T13:31:51.275081Z",
          "shell.execute_reply.started": "2024-05-06T13:31:42.145156Z",
          "shell.execute_reply": "2024-05-06T13:31:51.273773Z"
        },
        "trusted": true,
        "id": "6pMl-s6Sa1HS"
      },
      "execution_count": null,
      "outputs": []
    },
    {
      "cell_type": "markdown",
      "source": [
        "### Ranking Aminities"
      ],
      "metadata": {
        "id": "alriCO3Ga1Ha"
      }
    },
    {
      "cell_type": "code",
      "source": [
        "# Step 5: Ranking Amenities\n",
        "significant_amenities = sorted(significant_amenities.items(), key=lambda x: x[1])"
      ],
      "metadata": {
        "execution": {
          "iopub.status.busy": "2024-05-06T13:31:51.276573Z",
          "iopub.execute_input": "2024-05-06T13:31:51.276908Z",
          "iopub.status.idle": "2024-05-06T13:31:51.282395Z",
          "shell.execute_reply.started": "2024-05-06T13:31:51.276881Z",
          "shell.execute_reply": "2024-05-06T13:31:51.280984Z"
        },
        "trusted": true,
        "id": "KFxBRho0a1Ha"
      },
      "execution_count": null,
      "outputs": []
    },
    {
      "cell_type": "code",
      "source": [
        "significant_amenities"
      ],
      "metadata": {
        "execution": {
          "iopub.status.busy": "2024-05-06T13:31:51.284141Z",
          "iopub.execute_input": "2024-05-06T13:31:51.284642Z",
          "iopub.status.idle": "2024-05-06T13:31:51.303839Z",
          "shell.execute_reply.started": "2024-05-06T13:31:51.284598Z",
          "shell.execute_reply": "2024-05-06T13:31:51.302559Z"
        },
        "trusted": true,
        "id": "OjsFb63Ba1Ha"
      },
      "execution_count": null,
      "outputs": []
    },
    {
      "cell_type": "code",
      "source": [
        "df = pd.concat([df, amenities_encoded], axis=1)\n",
        "df = df.drop('amenities', axis=1)"
      ],
      "metadata": {
        "execution": {
          "iopub.status.busy": "2024-05-06T13:31:51.305572Z",
          "iopub.execute_input": "2024-05-06T13:31:51.30599Z",
          "iopub.status.idle": "2024-05-06T13:31:51.517545Z",
          "shell.execute_reply.started": "2024-05-06T13:31:51.305949Z",
          "shell.execute_reply": "2024-05-06T13:31:51.516426Z"
        },
        "trusted": true,
        "id": "_r4pnRVna1Hb"
      },
      "execution_count": null,
      "outputs": []
    },
    {
      "cell_type": "markdown",
      "source": [
        "## 6.Categorical Data Encoding"
      ],
      "metadata": {
        "id": "nnfopVboa1Hb"
      }
    },
    {
      "cell_type": "code",
      "source": [
        "# Apply one-hot encoding to categorical variables\n",
        "df_encoded = pd.get_dummies(df, columns=['room_type', 'city', 'property_type'])"
      ],
      "metadata": {
        "execution": {
          "iopub.status.busy": "2024-05-06T13:31:51.52031Z",
          "iopub.execute_input": "2024-05-06T13:31:51.520675Z",
          "iopub.status.idle": "2024-05-06T13:31:51.765805Z",
          "shell.execute_reply.started": "2024-05-06T13:31:51.520646Z",
          "shell.execute_reply": "2024-05-06T13:31:51.764702Z"
        },
        "trusted": true,
        "id": "g9qU6RFHa1Hb"
      },
      "execution_count": null,
      "outputs": []
    },
    {
      "cell_type": "code",
      "source": [
        "df = pd.concat([df, df_encoded], axis=1)\n",
        "df = df.drop(['room_type', 'city', 'property_type'], axis=1)"
      ],
      "metadata": {
        "execution": {
          "iopub.status.busy": "2024-05-06T13:31:51.774343Z",
          "iopub.execute_input": "2024-05-06T13:31:51.774715Z",
          "iopub.status.idle": "2024-05-06T13:31:52.034008Z",
          "shell.execute_reply.started": "2024-05-06T13:31:51.774687Z",
          "shell.execute_reply": "2024-05-06T13:31:52.032846Z"
        },
        "trusted": true,
        "id": "M1IzU_JPa1Hb"
      },
      "execution_count": null,
      "outputs": []
    },
    {
      "cell_type": "markdown",
      "source": [
        "## 7.Model Development and Training"
      ],
      "metadata": {
        "id": "0dbre4TDa1Hb"
      }
    },
    {
      "cell_type": "markdown",
      "source": [
        "### Drop Non-Numeric Cols"
      ],
      "metadata": {
        "id": "p7ZOK_ORa1Hb"
      }
    },
    {
      "cell_type": "code",
      "source": [
        "X = df.drop(columns=['id', 'log_price', 'description', 'name', 'first_review', 'last_review', 'thumbnail_url', 'zipcode', 'neighbourhood'])\n",
        "y = df['log_price']"
      ],
      "metadata": {
        "execution": {
          "iopub.status.busy": "2024-05-06T13:31:52.035541Z",
          "iopub.execute_input": "2024-05-06T13:31:52.035977Z",
          "iopub.status.idle": "2024-05-06T13:31:52.106533Z",
          "shell.execute_reply.started": "2024-05-06T13:31:52.035938Z",
          "shell.execute_reply": "2024-05-06T13:31:52.105265Z"
        },
        "trusted": true,
        "id": "yNRfIpwXa1Hb"
      },
      "execution_count": null,
      "outputs": []
    },
    {
      "cell_type": "code",
      "source": [
        "# Handle missing values\n",
        "X.fillna(0, inplace=True)"
      ],
      "metadata": {
        "execution": {
          "iopub.status.busy": "2024-05-06T13:31:52.10801Z",
          "iopub.execute_input": "2024-05-06T13:31:52.108457Z",
          "iopub.status.idle": "2024-05-06T13:31:52.257697Z",
          "shell.execute_reply.started": "2024-05-06T13:31:52.108418Z",
          "shell.execute_reply": "2024-05-06T13:31:52.25659Z"
        },
        "trusted": true,
        "id": "N0IdH2dba1Hb"
      },
      "execution_count": null,
      "outputs": []
    },
    {
      "cell_type": "code",
      "source": [
        "numeric_columns = X.select_dtypes(include=['int64', 'float64']).columns\n",
        "X_numeric = X[numeric_columns]"
      ],
      "metadata": {
        "execution": {
          "iopub.status.busy": "2024-05-06T13:31:52.259129Z",
          "iopub.execute_input": "2024-05-06T13:31:52.259625Z",
          "iopub.status.idle": "2024-05-06T13:31:52.591117Z",
          "shell.execute_reply.started": "2024-05-06T13:31:52.259587Z",
          "shell.execute_reply": "2024-05-06T13:31:52.589915Z"
        },
        "trusted": true,
        "id": "YaZT8_7Ua1Hb"
      },
      "execution_count": null,
      "outputs": []
    },
    {
      "cell_type": "markdown",
      "source": [
        "### Shuffle for LogPrice"
      ],
      "metadata": {
        "id": "j5hIiTYTa1Hb"
      }
    },
    {
      "cell_type": "code",
      "source": [
        "# Shuffle the dataset with respect to the log_price column\n",
        "data = pd.concat([X_numeric, df['log_price']], axis=1)\n",
        "shuffled_data = data.sample(frac=1, random_state=42)"
      ],
      "metadata": {
        "execution": {
          "iopub.status.busy": "2024-05-06T13:31:52.592544Z",
          "iopub.execute_input": "2024-05-06T13:31:52.592888Z",
          "iopub.status.idle": "2024-05-06T13:31:53.289049Z",
          "shell.execute_reply.started": "2024-05-06T13:31:52.59286Z",
          "shell.execute_reply": "2024-05-06T13:31:53.287906Z"
        },
        "trusted": true,
        "id": "HpdDeVsna1Hc"
      },
      "execution_count": null,
      "outputs": []
    },
    {
      "cell_type": "code",
      "source": [
        "# Separate features and target variable from the shuffled dataset\n",
        "X_shuffled = shuffled_data.drop(columns='log_price')\n",
        "y_shuffled = shuffled_data['log_price']"
      ],
      "metadata": {
        "execution": {
          "iopub.status.busy": "2024-05-06T13:31:53.290519Z",
          "iopub.execute_input": "2024-05-06T13:31:53.290905Z",
          "iopub.status.idle": "2024-05-06T13:31:53.40066Z",
          "shell.execute_reply.started": "2024-05-06T13:31:53.290874Z",
          "shell.execute_reply": "2024-05-06T13:31:53.399516Z"
        },
        "trusted": true,
        "id": "gq1D-IoQa1Hc"
      },
      "execution_count": null,
      "outputs": []
    },
    {
      "cell_type": "markdown",
      "source": [
        "### Split Data"
      ],
      "metadata": {
        "id": "0AzFdStba1Hc"
      }
    },
    {
      "cell_type": "code",
      "source": [
        "from sklearn.model_selection import train_test_split\n",
        "from sklearn.linear_model import LinearRegression\n",
        "from sklearn.ensemble import RandomForestRegressor, GradientBoostingRegressor\n",
        "from sklearn.metrics import mean_squared_error"
      ],
      "metadata": {
        "execution": {
          "iopub.status.busy": "2024-05-06T13:31:53.402018Z",
          "iopub.execute_input": "2024-05-06T13:31:53.40251Z",
          "iopub.status.idle": "2024-05-06T13:31:53.585543Z",
          "shell.execute_reply.started": "2024-05-06T13:31:53.402464Z",
          "shell.execute_reply": "2024-05-06T13:31:53.584446Z"
        },
        "trusted": true,
        "id": "8c5w-aTaa1Hc"
      },
      "execution_count": null,
      "outputs": []
    },
    {
      "cell_type": "code",
      "source": [
        "# Split the data into training and testing sets\n",
        "X_train, X_test, y_train, y_test = train_test_split(X_shuffled, y_shuffled, test_size=0.2, random_state=42)"
      ],
      "metadata": {
        "execution": {
          "iopub.status.busy": "2024-05-06T13:31:53.586812Z",
          "iopub.execute_input": "2024-05-06T13:31:53.587123Z",
          "iopub.status.idle": "2024-05-06T13:31:53.924704Z",
          "shell.execute_reply.started": "2024-05-06T13:31:53.587097Z",
          "shell.execute_reply": "2024-05-06T13:31:53.923602Z"
        },
        "trusted": true,
        "id": "Un1AxqV4a1Hc"
      },
      "execution_count": null,
      "outputs": []
    },
    {
      "cell_type": "code",
      "source": [
        "y_train = y_train.loc[:, ~y_train.columns.duplicated()]\n",
        "y_test = y_test.loc[:, ~y_test.columns.duplicated()]"
      ],
      "metadata": {
        "execution": {
          "iopub.status.busy": "2024-05-06T13:31:53.926012Z",
          "iopub.execute_input": "2024-05-06T13:31:53.926418Z",
          "iopub.status.idle": "2024-05-06T13:31:53.93341Z",
          "shell.execute_reply.started": "2024-05-06T13:31:53.926386Z",
          "shell.execute_reply": "2024-05-06T13:31:53.932179Z"
        },
        "trusted": true,
        "id": "0jMlEYZ-a1Hd"
      },
      "execution_count": null,
      "outputs": []
    },
    {
      "cell_type": "markdown",
      "source": [
        "### Simple Linear Regression"
      ],
      "metadata": {
        "id": "9eWPTSIAa1Hd"
      }
    },
    {
      "cell_type": "code",
      "source": [
        "baseline_model = LinearRegression()\n",
        "baseline_model.fit(X_train, y_train)\n",
        "baseline_pred = baseline_model.predict(X_test)\n",
        "baseline_mse = mean_squared_error(y_test, baseline_pred)\n",
        "print(\"Baseline Model MSE:\", baseline_mse)"
      ],
      "metadata": {
        "execution": {
          "iopub.status.busy": "2024-05-06T13:31:53.935255Z",
          "iopub.execute_input": "2024-05-06T13:31:53.935634Z",
          "iopub.status.idle": "2024-05-06T13:31:57.570755Z",
          "shell.execute_reply.started": "2024-05-06T13:31:53.935603Z",
          "shell.execute_reply": "2024-05-06T13:31:57.569268Z"
        },
        "trusted": true,
        "id": "I_VYiJDWa1Hd"
      },
      "execution_count": null,
      "outputs": []
    },
    {
      "cell_type": "markdown",
      "source": [
        "### RandomForest"
      ],
      "metadata": {
        "id": "DmNPCzxXa1He"
      }
    },
    {
      "cell_type": "code",
      "source": [
        "rf_model = RandomForestRegressor(random_state=42)\n",
        "rf_model.fit(X_train, y_train)\n",
        "rf_pred = rf_model.predict(X_test)\n",
        "rf_mse = mean_squared_error(y_test, rf_pred)\n",
        "print(\"RandomForest Model MSE:\", rf_mse)"
      ],
      "metadata": {
        "execution": {
          "iopub.status.busy": "2024-05-06T13:31:57.572759Z",
          "iopub.execute_input": "2024-05-06T13:31:57.573567Z",
          "iopub.status.idle": "2024-05-06T13:40:37.016949Z",
          "shell.execute_reply.started": "2024-05-06T13:31:57.573514Z",
          "shell.execute_reply": "2024-05-06T13:40:37.015604Z"
        },
        "trusted": true,
        "id": "4fRoaylIa1He"
      },
      "execution_count": null,
      "outputs": []
    },
    {
      "cell_type": "markdown",
      "source": [
        "### GradientBoosting"
      ],
      "metadata": {
        "id": "h245KJT9a1He"
      }
    },
    {
      "cell_type": "code",
      "source": [
        "gb_model = GradientBoostingRegressor(random_state=42)\n",
        "gb_model.fit(X_train, y_train)\n",
        "gb_pred = gb_model.predict(X_test)\n",
        "gb_mse = mean_squared_error(y_test, gb_pred)\n",
        "print(\"GradientBoosting Model MSE:\", gb_mse)"
      ],
      "metadata": {
        "execution": {
          "iopub.status.busy": "2024-05-06T13:40:37.018481Z",
          "iopub.execute_input": "2024-05-06T13:40:37.018915Z",
          "iopub.status.idle": "2024-05-06T13:42:18.939511Z",
          "shell.execute_reply.started": "2024-05-06T13:40:37.018877Z",
          "shell.execute_reply": "2024-05-06T13:42:18.938199Z"
        },
        "trusted": true,
        "id": "-0XRJSFNa1He"
      },
      "execution_count": null,
      "outputs": []
    },
    {
      "cell_type": "markdown",
      "source": [
        "## 8.Model Optimization and Validation"
      ],
      "metadata": {
        "id": "pyF2G5Bia1Hf"
      }
    },
    {
      "cell_type": "code",
      "source": [
        "from sklearn.model_selection import GridSearchCV, KFold"
      ],
      "metadata": {
        "execution": {
          "iopub.status.busy": "2024-05-06T13:42:18.94091Z",
          "iopub.execute_input": "2024-05-06T13:42:18.941264Z",
          "iopub.status.idle": "2024-05-06T13:42:18.946881Z",
          "shell.execute_reply.started": "2024-05-06T13:42:18.941229Z",
          "shell.execute_reply": "2024-05-06T13:42:18.945528Z"
        },
        "trusted": true,
        "id": "5Wm-Pxf-a1Hf"
      },
      "execution_count": null,
      "outputs": []
    },
    {
      "cell_type": "code",
      "source": [
        "# rf_param_grid = {\n",
        "#     'n_estimators': [50, 100, 150],\n",
        "#     'max_depth': [None, 10, 20],\n",
        "#     'min_samples_split': [2, 5, 10]\n",
        "# }\n",
        "# rf_grid_search = GridSearchCV(RandomForestRegressor(random_state=42), param_grid=rf_param_grid, cv=5, scoring='neg_mean_squared_error')\n",
        "# rf_grid_search.fit(X_train, y_train)\n",
        "# rf_best_model = rf_grid_search.best_estimator_\n",
        "# rf_pred = rf_best_model.predict(X_test)\n",
        "# rf_mse = mean_squared_error(y_test, rf_pred)\n",
        "# print(\"RandomForest Model MSE:\", rf_mse)"
      ],
      "metadata": {
        "execution": {
          "iopub.status.busy": "2024-05-06T13:42:18.948484Z",
          "iopub.execute_input": "2024-05-06T13:42:18.948927Z",
          "iopub.status.idle": "2024-05-06T13:42:18.96217Z",
          "shell.execute_reply.started": "2024-05-06T13:42:18.948884Z",
          "shell.execute_reply": "2024-05-06T13:42:18.96094Z"
        },
        "trusted": true,
        "id": "cUbOoXoga1Hf"
      },
      "execution_count": null,
      "outputs": []
    },
    {
      "cell_type": "code",
      "source": [
        "rf_param_grid = {\n",
        "    'n_estimators': [50, 100],\n",
        "    'max_depth': [None, 10],\n",
        "    'min_samples_split': [2, 5]\n",
        "}\n",
        "\n",
        "# Perform Grid Search with reduced parameters\n",
        "rf_grid_search = GridSearchCV(RandomForestRegressor(random_state=42),\n",
        "                              param_grid=rf_param_grid, cv=2,\n",
        "                              scoring='neg_mean_squared_error',\n",
        "                              n_jobs=-1)  # Utilize multiple CPU cores\n",
        "rf_grid_search.fit(X_train, y_train)\n",
        "\n",
        "# Get the best model and make predictions\n",
        "rf_best_model = rf_grid_search.best_estimator_\n",
        "rf_pred = rf_best_model.predict(X_test)\n",
        "\n",
        "# Calculate MSE\n",
        "rf_mse = mean_squared_error(y_test, rf_pred)\n",
        "print(\"RandomForest Model MSE:\", rf_mse)"
      ],
      "metadata": {
        "execution": {
          "iopub.status.busy": "2024-05-06T13:45:01.078955Z",
          "iopub.execute_input": "2024-05-06T13:45:01.079456Z",
          "iopub.status.idle": "2024-05-06T14:07:15.158466Z",
          "shell.execute_reply.started": "2024-05-06T13:45:01.07942Z",
          "shell.execute_reply": "2024-05-06T14:07:15.156935Z"
        },
        "trusted": true,
        "id": "5jvpviGDa1Hf"
      },
      "execution_count": null,
      "outputs": []
    },
    {
      "cell_type": "code",
      "source": [
        "# # GradientBoosting Model\n",
        "# gb_param_grid = {\n",
        "#     'n_estimators': [50, 100, 150],\n",
        "#     'learning_rate': [0.05, 0.1, 0.2],\n",
        "#     'max_depth': [3, 5, 7]\n",
        "# }\n",
        "# gb_grid_search = GridSearchCV(GradientBoostingRegressor(random_state=42), param_grid=gb_param_grid, cv=5, scoring='neg_mean_squared_error')\n",
        "# gb_grid_search.fit(X_train, y_train)\n",
        "# gb_best_model = gb_grid_search.best_estimator_\n",
        "# gb_pred = gb_best_model.predict(X_test)\n",
        "# gb_mse = mean_squared_error(y_test, gb_pred)\n",
        "# print(\"GradientBoosting Model MSE:\", gb_mse)"
      ],
      "metadata": {
        "execution": {
          "iopub.status.busy": "2024-05-06T13:44:46.399322Z",
          "iopub.status.idle": "2024-05-06T13:44:46.399786Z",
          "shell.execute_reply.started": "2024-05-06T13:44:46.399571Z",
          "shell.execute_reply": "2024-05-06T13:44:46.399588Z"
        },
        "trusted": true,
        "id": "RUwNBx8na1Hg"
      },
      "execution_count": null,
      "outputs": []
    },
    {
      "cell_type": "code",
      "source": [
        "# Define a smaller parameter grid\n",
        "gb_param_grid = {\n",
        "    'n_estimators': [50, 100],\n",
        "    'learning_rate': [0.05, 0.1],\n",
        "    'max_depth': [3, 5]\n",
        "}\n",
        "\n",
        "# Perform Grid Search with reduced parameters\n",
        "gb_grid_search = GridSearchCV(GradientBoostingRegressor(random_state=42),\n",
        "                              param_grid=gb_param_grid, cv=2,\n",
        "                              scoring='neg_mean_squared_error',\n",
        "                              n_jobs=-1)  # Utilize multiple CPU cores\n",
        "gb_grid_search.fit(X_train, y_train)\n",
        "\n",
        "# Get the best model and make predictions\n",
        "gb_best_model = gb_grid_search.best_estimator_\n",
        "gb_pred = gb_best_model.predict(X_test)\n",
        "\n",
        "# Calculate MSE\n",
        "gb_mse = mean_squared_error(y_test, gb_pred)\n",
        "print(\"GradientBoosting Model MSE:\", gb_mse)"
      ],
      "metadata": {
        "execution": {
          "iopub.status.busy": "2024-05-06T14:08:35.901805Z",
          "iopub.execute_input": "2024-05-06T14:08:35.902255Z",
          "iopub.status.idle": "2024-05-06T14:16:46.801259Z",
          "shell.execute_reply.started": "2024-05-06T14:08:35.902222Z",
          "shell.execute_reply": "2024-05-06T14:16:46.799825Z"
        },
        "trusted": true,
        "id": "Hef06VFZa1Hg"
      },
      "execution_count": null,
      "outputs": []
    },
    {
      "cell_type": "markdown",
      "source": [
        "## 9.Feature Importance and Model Insights"
      ],
      "metadata": {
        "id": "BNwmP-Iaa1Hg"
      }
    },
    {
      "cell_type": "code",
      "source": [
        "import shap\n",
        "import matplotlib.pyplot as plt"
      ],
      "metadata": {
        "execution": {
          "iopub.status.busy": "2024-05-06T14:19:29.013754Z",
          "iopub.execute_input": "2024-05-06T14:19:29.014184Z",
          "iopub.status.idle": "2024-05-06T14:19:29.020563Z",
          "shell.execute_reply.started": "2024-05-06T14:19:29.014155Z",
          "shell.execute_reply": "2024-05-06T14:19:29.01907Z"
        },
        "trusted": true,
        "id": "89WOaWZ2a1Hh"
      },
      "execution_count": null,
      "outputs": []
    },
    {
      "cell_type": "code",
      "source": [
        "# Analyze Feature Importance and Model Insights\n",
        "# RandomForest Feature Importance\n",
        "rf_feature_importance = rf_best_model.feature_importances_\n",
        "\n",
        "# Plot RandomForest Feature Importance\n",
        "plt.figure(figsize=(10, 25))\n",
        "plt.barh(X_train.columns, rf_feature_importance)\n",
        "plt.xlabel('Feature Importance')\n",
        "plt.ylabel('Features')\n",
        "plt.title('RandomForest Feature Importance')\n",
        "plt.show()"
      ],
      "metadata": {
        "execution": {
          "iopub.status.busy": "2024-05-06T14:21:22.467413Z",
          "iopub.execute_input": "2024-05-06T14:21:22.468081Z",
          "iopub.status.idle": "2024-05-06T14:21:25.121192Z",
          "shell.execute_reply.started": "2024-05-06T14:21:22.468036Z",
          "shell.execute_reply": "2024-05-06T14:21:25.119811Z"
        },
        "trusted": true,
        "id": "IYSAmhkta1Hh"
      },
      "execution_count": null,
      "outputs": []
    },
    {
      "cell_type": "code",
      "source": [
        "# GradientBoosting Feature Importance\n",
        "gb_feature_importance = gb_best_model.feature_importances_\n",
        "\n",
        "# Plot GradientBoosting Feature Importance\n",
        "plt.figure(figsize=(10, 30))\n",
        "plt.barh(X_train.columns, gb_feature_importance)\n",
        "plt.xlabel('Feature Importance')\n",
        "plt.ylabel('Features')\n",
        "plt.title('GradientBoosting Feature Importance')\n",
        "plt.show()"
      ],
      "metadata": {
        "execution": {
          "iopub.status.busy": "2024-05-06T14:22:05.82733Z",
          "iopub.execute_input": "2024-05-06T14:22:05.827873Z",
          "iopub.status.idle": "2024-05-06T14:22:08.340661Z",
          "shell.execute_reply.started": "2024-05-06T14:22:05.827833Z",
          "shell.execute_reply": "2024-05-06T14:22:08.339328Z"
        },
        "trusted": true,
        "id": "8MboTg8ia1Hi"
      },
      "execution_count": null,
      "outputs": []
    },
    {
      "cell_type": "code",
      "source": [
        "# SHAP Values (GradientBoosting)\n",
        "explainer = shap.Explainer(gb_best_model)\n",
        "shap_values = explainer.shap_values(X_test)"
      ],
      "metadata": {
        "execution": {
          "iopub.status.busy": "2024-05-06T14:22:35.315776Z",
          "iopub.execute_input": "2024-05-06T14:22:35.316291Z",
          "iopub.status.idle": "2024-05-06T14:22:43.523988Z",
          "shell.execute_reply.started": "2024-05-06T14:22:35.316253Z",
          "shell.execute_reply": "2024-05-06T14:22:43.522774Z"
        },
        "trusted": true,
        "id": "Eg56wr0Ma1Hi"
      },
      "execution_count": null,
      "outputs": []
    },
    {
      "cell_type": "code",
      "source": [
        "# Summary Plot\n",
        "shap.summary_plot(shap_values, X_test)"
      ],
      "metadata": {
        "execution": {
          "iopub.status.busy": "2024-05-06T14:22:43.525935Z",
          "iopub.execute_input": "2024-05-06T14:22:43.526313Z",
          "iopub.status.idle": "2024-05-06T14:22:48.906137Z",
          "shell.execute_reply.started": "2024-05-06T14:22:43.526283Z",
          "shell.execute_reply": "2024-05-06T14:22:48.904776Z"
        },
        "trusted": true,
        "id": "TIL9l9U2a1Hi"
      },
      "execution_count": null,
      "outputs": []
    },
    {
      "cell_type": "markdown",
      "source": [
        "## 10.Predictive Performance Assessment"
      ],
      "metadata": {
        "id": "ekVqnRIXa1Hj"
      }
    },
    {
      "cell_type": "code",
      "source": [
        "from sklearn.metrics import mean_squared_error, r2_score\n",
        "import numpy as np"
      ],
      "metadata": {
        "execution": {
          "iopub.status.busy": "2024-05-06T14:24:09.721052Z",
          "iopub.execute_input": "2024-05-06T14:24:09.721568Z",
          "iopub.status.idle": "2024-05-06T14:24:09.727854Z",
          "shell.execute_reply.started": "2024-05-06T14:24:09.721532Z",
          "shell.execute_reply": "2024-05-06T14:24:09.726484Z"
        },
        "trusted": true,
        "id": "Yeb5EuY1a1Hj"
      },
      "execution_count": null,
      "outputs": []
    },
    {
      "cell_type": "markdown",
      "source": [
        "### RMSE for RF model"
      ],
      "metadata": {
        "id": "ufA1bIwfa1Hj"
      }
    },
    {
      "cell_type": "code",
      "source": [
        "# Step 4: Evaluate Performance on Test Set and Residual Analysis\n",
        "# Calculate RMSE and R-squared for RandomForest Model\n",
        "rf_test_pred = rf_best_model.predict(X_test)\n",
        "rf_rmse = np.sqrt(mean_squared_error(y_test, rf_test_pred))\n",
        "rf_r2 = r2_score(y_test, rf_test_pred)\n",
        "print(\"RandomForest Model - RMSE:\", rf_rmse)\n",
        "print(\"RandomForest Model - R-squared:\", rf_r2)"
      ],
      "metadata": {
        "execution": {
          "iopub.status.busy": "2024-05-06T14:24:12.871552Z",
          "iopub.execute_input": "2024-05-06T14:24:12.871973Z",
          "iopub.status.idle": "2024-05-06T14:24:14.211691Z",
          "shell.execute_reply.started": "2024-05-06T14:24:12.871943Z",
          "shell.execute_reply": "2024-05-06T14:24:14.210318Z"
        },
        "trusted": true,
        "id": "LbzODxRaa1Hj"
      },
      "execution_count": null,
      "outputs": []
    },
    {
      "cell_type": "markdown",
      "source": [
        "### RMSE for GB model"
      ],
      "metadata": {
        "id": "mN33k12ca1Hj"
      }
    },
    {
      "cell_type": "code",
      "source": [
        "# Calculate RMSE and R-squared for GradientBoosting Model\n",
        "gb_test_pred = gb_best_model.predict(X_test)\n",
        "gb_rmse = np.sqrt(mean_squared_error(y_test, gb_test_pred))\n",
        "gb_r2 = r2_score(y_test, gb_test_pred)\n",
        "print(\"GradientBoosting Model - RMSE:\", gb_rmse)\n",
        "print(\"GradientBoosting Model - R-squared:\", gb_r2)"
      ],
      "metadata": {
        "execution": {
          "iopub.status.busy": "2024-05-06T14:24:17.028961Z",
          "iopub.execute_input": "2024-05-06T14:24:17.029503Z",
          "iopub.status.idle": "2024-05-06T14:24:17.23071Z",
          "shell.execute_reply.started": "2024-05-06T14:24:17.029462Z",
          "shell.execute_reply": "2024-05-06T14:24:17.22912Z"
        },
        "trusted": true,
        "id": "it1i5kR3a1Hk"
      },
      "execution_count": null,
      "outputs": []
    },
    {
      "cell_type": "markdown",
      "source": [
        "### Residual Analysis"
      ],
      "metadata": {
        "id": "Eri6WsGma1Hk"
      }
    },
    {
      "cell_type": "code",
      "source": [
        "# Residual Analysis\n",
        "import numpy as np\n",
        "\n",
        "# Convert y_test to a NumPy array and flatten it\n",
        "y_test = y_test.to_numpy().flatten()\n",
        "\n",
        "# Reshape rf_test_pred to match the shape of y_test_array\n",
        "rf_test_pred = rf_test_pred.reshape(-1)\n",
        "\n",
        "# Residual Analysis\n",
        "rf_residuals = y_test - rf_test_pred\n"
      ],
      "metadata": {
        "execution": {
          "iopub.status.busy": "2024-05-06T14:45:54.246607Z",
          "iopub.execute_input": "2024-05-06T14:45:54.247147Z",
          "iopub.status.idle": "2024-05-06T14:45:54.255466Z",
          "shell.execute_reply.started": "2024-05-06T14:45:54.247108Z",
          "shell.execute_reply": "2024-05-06T14:45:54.253904Z"
        },
        "trusted": true,
        "id": "FypYDp3fa1Hk"
      },
      "execution_count": null,
      "outputs": []
    },
    {
      "cell_type": "code",
      "source": [
        "# Residual Analysis\n",
        "import numpy as np\n",
        "\n",
        "# Convert y_test to a NumPy array and flatten it\n",
        "# y_test = y_test.to_numpy().flatten()\n",
        "\n",
        "# Reshape rf_test_pred to match the shape of y_test_array\n",
        "gb_test_pred = gb_test_pred.reshape(-1)\n",
        "\n",
        "# Residual Analysis\n",
        "gb_residuals = y_test - gb_test_pred\n"
      ],
      "metadata": {
        "execution": {
          "iopub.status.busy": "2024-05-06T14:47:35.156388Z",
          "iopub.execute_input": "2024-05-06T14:47:35.156829Z",
          "iopub.status.idle": "2024-05-06T14:47:35.171821Z",
          "shell.execute_reply.started": "2024-05-06T14:47:35.156798Z",
          "shell.execute_reply": "2024-05-06T14:47:35.170382Z"
        },
        "trusted": true,
        "id": "f8bJuYC8a1Hk"
      },
      "execution_count": null,
      "outputs": []
    },
    {
      "cell_type": "markdown",
      "source": [
        "### Model Residual Plottings"
      ],
      "metadata": {
        "id": "GmD6N3Xja1Hk"
      }
    },
    {
      "cell_type": "code",
      "source": [
        "import matplotlib.pyplot as plt\n",
        "\n",
        "plt.figure(figsize=(20, 6))  # Adjusted figure size\n",
        "plt.scatter(rf_test_pred, rf_residuals, c=rf_test_pred, cmap='viridis', alpha=0.2)\n",
        "plt.colorbar(label='rf_test_pred')  # Add colorbar to show the mapping\n",
        "plt.title('RandomForest Residuals')\n",
        "plt.xlabel('Predicted log_price')\n",
        "plt.ylabel('Residuals')\n",
        "plt.show()\n"
      ],
      "metadata": {
        "execution": {
          "iopub.status.busy": "2024-05-06T14:58:46.821105Z",
          "iopub.execute_input": "2024-05-06T14:58:46.82164Z",
          "iopub.status.idle": "2024-05-06T14:58:47.6082Z",
          "shell.execute_reply.started": "2024-05-06T14:58:46.821602Z",
          "shell.execute_reply": "2024-05-06T14:58:47.606973Z"
        },
        "trusted": true,
        "id": "lXdUBRfea1Hk"
      },
      "execution_count": null,
      "outputs": []
    },
    {
      "cell_type": "code",
      "source": [
        "import matplotlib.pyplot as plt\n",
        "\n",
        "plt.figure(figsize=(20, 6))  # Adjusted figure size\n",
        "plt.scatter(gb_test_pred, gb_residuals, c=gb_test_pred, cmap='viridis', alpha=0.2)\n",
        "plt.colorbar(label='gb_test_pred')  # Add colorbar to show the mapping\n",
        "plt.title('GradientBoosting Residuals')\n",
        "plt.xlabel('Predicted log_price')\n",
        "plt.ylabel('Residuals')\n",
        "plt.show()\n"
      ],
      "metadata": {
        "execution": {
          "iopub.status.busy": "2024-05-06T14:58:19.19767Z",
          "iopub.execute_input": "2024-05-06T14:58:19.198121Z",
          "iopub.status.idle": "2024-05-06T14:58:20.036274Z",
          "shell.execute_reply.started": "2024-05-06T14:58:19.198086Z",
          "shell.execute_reply": "2024-05-06T14:58:20.034868Z"
        },
        "trusted": true,
        "id": "UPTKHrDwa1Hl"
      },
      "execution_count": null,
      "outputs": []
    },
    {
      "cell_type": "code",
      "source": [],
      "metadata": {
        "id": "Gw5i579Pa1Hl"
      },
      "execution_count": null,
      "outputs": []
    }
  ]
}
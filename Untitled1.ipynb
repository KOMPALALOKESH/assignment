{
  "nbformat": 4,
  "nbformat_minor": 0,
  "metadata": {
    "colab": {
      "provenance": [],
      "authorship_tag": "ABX9TyPd0z0vx5pITN/EuLXfy0t+",
      "include_colab_link": true
    },
    "kernelspec": {
      "name": "python3",
      "display_name": "Python 3"
    },
    "language_info": {
      "name": "python"
    }
  },
  "cells": [
    {
      "cell_type": "markdown",
      "metadata": {
        "id": "view-in-github",
        "colab_type": "text"
      },
      "source": [
        "<a href=\"https://colab.research.google.com/github/KOMPALALOKESH/assignment/blob/main/Untitled1.ipynb\" target=\"_parent\"><img src=\"https://colab.research.google.com/assets/colab-badge.svg\" alt=\"Open In Colab\"/></a>"
      ]
    },
    {
      "cell_type": "code",
      "source": [
        "!git clone 'https://github.com/KOMPALALOKESH/assignment'"
      ],
      "metadata": {
        "colab": {
          "base_uri": "https://localhost:8080/"
        },
        "id": "4pSR7X16n0vB",
        "outputId": "18558f12-426b-44f7-aaee-e997bd5c8a2f"
      },
      "execution_count": 9,
      "outputs": [
        {
          "output_type": "stream",
          "name": "stdout",
          "text": [
            "Cloning into 'assignment'...\n",
            "remote: Enumerating objects: 8, done.\u001b[K\n",
            "remote: Counting objects: 100% (3/3), done.\u001b[K\n",
            "remote: Total 8 (delta 0), reused 3 (delta 0), pack-reused 5\u001b[K\n",
            "Receiving objects: 100% (8/8), 41.80 MiB | 34.41 MiB/s, done.\n"
          ]
        }
      ]
    },
    {
      "cell_type": "code",
      "source": [
        "cd '/content/assignment'"
      ],
      "metadata": {
        "colab": {
          "base_uri": "https://localhost:8080/"
        },
        "id": "gNH6TvX_n-EV",
        "outputId": "0a164224-b931-477e-f260-1a29ea62a19d"
      },
      "execution_count": 11,
      "outputs": [
        {
          "output_type": "stream",
          "name": "stdout",
          "text": [
            "/content/assignment\n"
          ]
        }
      ]
    },
    {
      "cell_type": "code",
      "execution_count": 14,
      "metadata": {
        "id": "iVq38L5PggVN"
      },
      "outputs": [],
      "source": [
        "# import pandas lib as pd\n",
        "import pandas as pd\n",
        "\n",
        "# read by default 1st sheet of an excel file\n",
        "df = pd.read_excel('/content/assignment/data.xlsx')"
      ]
    },
    {
      "cell_type": "code",
      "source": [
        "df.head()"
      ],
      "metadata": {
        "colab": {
          "base_uri": "https://localhost:8080/",
          "height": 498
        },
        "id": "nhr4uC9poeLD",
        "outputId": "0b5a9301-bff2-42cd-9fab-eb3574a44ccc"
      },
      "execution_count": 18,
      "outputs": [
        {
          "output_type": "execute_result",
          "data": {
            "text/plain": [
              "         id  log_price property_type        room_type  \\\n",
              "0   6901257   5.010635     Apartment  Entire home/apt   \n",
              "1   6304928   5.129899     Apartment  Entire home/apt   \n",
              "2   7919400   4.976734     Apartment  Entire home/apt   \n",
              "3  13418779   6.620073         House  Entire home/apt   \n",
              "4   3808709   4.744932     Apartment  Entire home/apt   \n",
              "\n",
              "                                           amenities  accommodates  bathrooms  \\\n",
              "0  {\"Wireless Internet\",\"Air conditioning\",Kitche...             3        1.0   \n",
              "1  {\"Wireless Internet\",\"Air conditioning\",Kitche...             7        1.0   \n",
              "2  {TV,\"Cable TV\",\"Wireless Internet\",\"Air condit...             5        1.0   \n",
              "3  {TV,\"Cable TV\",Internet,\"Wireless Internet\",Ki...             4        1.0   \n",
              "4  {TV,Internet,\"Wireless Internet\",\"Air conditio...             2        1.0   \n",
              "\n",
              "   bed_type cancellation_policy  cleaning_fee  ...   latitude   longitude  \\\n",
              "0  Real Bed              strict          True  ...  40.696524  -73.991617   \n",
              "1  Real Bed              strict          True  ...  40.766115  -73.989040   \n",
              "2  Real Bed            moderate          True  ...  40.808110  -73.943756   \n",
              "3  Real Bed            flexible          True  ...  37.772004 -122.431619   \n",
              "4  Real Bed            moderate          True  ...  38.925627  -77.034596   \n",
              "\n",
              "                                       name     neighbourhood  \\\n",
              "0            Beautiful brownstone 1-bedroom  Brooklyn Heights   \n",
              "1  Superb 3BR Apt Located Near Times Square    Hell's Kitchen   \n",
              "2                          The Garden Oasis            Harlem   \n",
              "3        Beautiful Flat in the Heart of SF!      Lower Haight   \n",
              "4                Great studio in midtown DC  Columbia Heights   \n",
              "\n",
              "  number_of_reviews  review_scores_rating  \\\n",
              "0                 2                 100.0   \n",
              "1                 6                  93.0   \n",
              "2                10                  92.0   \n",
              "3                 0                   NaN   \n",
              "4                 4                  40.0   \n",
              "\n",
              "                                       thumbnail_url zipcode bedrooms  beds  \n",
              "0  https://a0.muscache.com/im/pictures/6d7cbbf7-c...   11201      1.0   1.0  \n",
              "1  https://a0.muscache.com/im/pictures/348a55fe-4...   10019      3.0   3.0  \n",
              "2  https://a0.muscache.com/im/pictures/6fae5362-9...   10027      1.0   3.0  \n",
              "3  https://a0.muscache.com/im/pictures/72208dad-9...   94117      2.0   2.0  \n",
              "4                                                NaN   20009      0.0   1.0  \n",
              "\n",
              "[5 rows x 29 columns]"
            ],
            "text/html": [
              "\n",
              "  <div id=\"df-d9d58e96-8a74-4193-82d2-9278a505f603\" class=\"colab-df-container\">\n",
              "    <div>\n",
              "<style scoped>\n",
              "    .dataframe tbody tr th:only-of-type {\n",
              "        vertical-align: middle;\n",
              "    }\n",
              "\n",
              "    .dataframe tbody tr th {\n",
              "        vertical-align: top;\n",
              "    }\n",
              "\n",
              "    .dataframe thead th {\n",
              "        text-align: right;\n",
              "    }\n",
              "</style>\n",
              "<table border=\"1\" class=\"dataframe\">\n",
              "  <thead>\n",
              "    <tr style=\"text-align: right;\">\n",
              "      <th></th>\n",
              "      <th>id</th>\n",
              "      <th>log_price</th>\n",
              "      <th>property_type</th>\n",
              "      <th>room_type</th>\n",
              "      <th>amenities</th>\n",
              "      <th>accommodates</th>\n",
              "      <th>bathrooms</th>\n",
              "      <th>bed_type</th>\n",
              "      <th>cancellation_policy</th>\n",
              "      <th>cleaning_fee</th>\n",
              "      <th>...</th>\n",
              "      <th>latitude</th>\n",
              "      <th>longitude</th>\n",
              "      <th>name</th>\n",
              "      <th>neighbourhood</th>\n",
              "      <th>number_of_reviews</th>\n",
              "      <th>review_scores_rating</th>\n",
              "      <th>thumbnail_url</th>\n",
              "      <th>zipcode</th>\n",
              "      <th>bedrooms</th>\n",
              "      <th>beds</th>\n",
              "    </tr>\n",
              "  </thead>\n",
              "  <tbody>\n",
              "    <tr>\n",
              "      <th>0</th>\n",
              "      <td>6901257</td>\n",
              "      <td>5.010635</td>\n",
              "      <td>Apartment</td>\n",
              "      <td>Entire home/apt</td>\n",
              "      <td>{\"Wireless Internet\",\"Air conditioning\",Kitche...</td>\n",
              "      <td>3</td>\n",
              "      <td>1.0</td>\n",
              "      <td>Real Bed</td>\n",
              "      <td>strict</td>\n",
              "      <td>True</td>\n",
              "      <td>...</td>\n",
              "      <td>40.696524</td>\n",
              "      <td>-73.991617</td>\n",
              "      <td>Beautiful brownstone 1-bedroom</td>\n",
              "      <td>Brooklyn Heights</td>\n",
              "      <td>2</td>\n",
              "      <td>100.0</td>\n",
              "      <td>https://a0.muscache.com/im/pictures/6d7cbbf7-c...</td>\n",
              "      <td>11201</td>\n",
              "      <td>1.0</td>\n",
              "      <td>1.0</td>\n",
              "    </tr>\n",
              "    <tr>\n",
              "      <th>1</th>\n",
              "      <td>6304928</td>\n",
              "      <td>5.129899</td>\n",
              "      <td>Apartment</td>\n",
              "      <td>Entire home/apt</td>\n",
              "      <td>{\"Wireless Internet\",\"Air conditioning\",Kitche...</td>\n",
              "      <td>7</td>\n",
              "      <td>1.0</td>\n",
              "      <td>Real Bed</td>\n",
              "      <td>strict</td>\n",
              "      <td>True</td>\n",
              "      <td>...</td>\n",
              "      <td>40.766115</td>\n",
              "      <td>-73.989040</td>\n",
              "      <td>Superb 3BR Apt Located Near Times Square</td>\n",
              "      <td>Hell's Kitchen</td>\n",
              "      <td>6</td>\n",
              "      <td>93.0</td>\n",
              "      <td>https://a0.muscache.com/im/pictures/348a55fe-4...</td>\n",
              "      <td>10019</td>\n",
              "      <td>3.0</td>\n",
              "      <td>3.0</td>\n",
              "    </tr>\n",
              "    <tr>\n",
              "      <th>2</th>\n",
              "      <td>7919400</td>\n",
              "      <td>4.976734</td>\n",
              "      <td>Apartment</td>\n",
              "      <td>Entire home/apt</td>\n",
              "      <td>{TV,\"Cable TV\",\"Wireless Internet\",\"Air condit...</td>\n",
              "      <td>5</td>\n",
              "      <td>1.0</td>\n",
              "      <td>Real Bed</td>\n",
              "      <td>moderate</td>\n",
              "      <td>True</td>\n",
              "      <td>...</td>\n",
              "      <td>40.808110</td>\n",
              "      <td>-73.943756</td>\n",
              "      <td>The Garden Oasis</td>\n",
              "      <td>Harlem</td>\n",
              "      <td>10</td>\n",
              "      <td>92.0</td>\n",
              "      <td>https://a0.muscache.com/im/pictures/6fae5362-9...</td>\n",
              "      <td>10027</td>\n",
              "      <td>1.0</td>\n",
              "      <td>3.0</td>\n",
              "    </tr>\n",
              "    <tr>\n",
              "      <th>3</th>\n",
              "      <td>13418779</td>\n",
              "      <td>6.620073</td>\n",
              "      <td>House</td>\n",
              "      <td>Entire home/apt</td>\n",
              "      <td>{TV,\"Cable TV\",Internet,\"Wireless Internet\",Ki...</td>\n",
              "      <td>4</td>\n",
              "      <td>1.0</td>\n",
              "      <td>Real Bed</td>\n",
              "      <td>flexible</td>\n",
              "      <td>True</td>\n",
              "      <td>...</td>\n",
              "      <td>37.772004</td>\n",
              "      <td>-122.431619</td>\n",
              "      <td>Beautiful Flat in the Heart of SF!</td>\n",
              "      <td>Lower Haight</td>\n",
              "      <td>0</td>\n",
              "      <td>NaN</td>\n",
              "      <td>https://a0.muscache.com/im/pictures/72208dad-9...</td>\n",
              "      <td>94117</td>\n",
              "      <td>2.0</td>\n",
              "      <td>2.0</td>\n",
              "    </tr>\n",
              "    <tr>\n",
              "      <th>4</th>\n",
              "      <td>3808709</td>\n",
              "      <td>4.744932</td>\n",
              "      <td>Apartment</td>\n",
              "      <td>Entire home/apt</td>\n",
              "      <td>{TV,Internet,\"Wireless Internet\",\"Air conditio...</td>\n",
              "      <td>2</td>\n",
              "      <td>1.0</td>\n",
              "      <td>Real Bed</td>\n",
              "      <td>moderate</td>\n",
              "      <td>True</td>\n",
              "      <td>...</td>\n",
              "      <td>38.925627</td>\n",
              "      <td>-77.034596</td>\n",
              "      <td>Great studio in midtown DC</td>\n",
              "      <td>Columbia Heights</td>\n",
              "      <td>4</td>\n",
              "      <td>40.0</td>\n",
              "      <td>NaN</td>\n",
              "      <td>20009</td>\n",
              "      <td>0.0</td>\n",
              "      <td>1.0</td>\n",
              "    </tr>\n",
              "  </tbody>\n",
              "</table>\n",
              "<p>5 rows × 29 columns</p>\n",
              "</div>\n",
              "    <div class=\"colab-df-buttons\">\n",
              "\n",
              "  <div class=\"colab-df-container\">\n",
              "    <button class=\"colab-df-convert\" onclick=\"convertToInteractive('df-d9d58e96-8a74-4193-82d2-9278a505f603')\"\n",
              "            title=\"Convert this dataframe to an interactive table.\"\n",
              "            style=\"display:none;\">\n",
              "\n",
              "  <svg xmlns=\"http://www.w3.org/2000/svg\" height=\"24px\" viewBox=\"0 -960 960 960\">\n",
              "    <path d=\"M120-120v-720h720v720H120Zm60-500h600v-160H180v160Zm220 220h160v-160H400v160Zm0 220h160v-160H400v160ZM180-400h160v-160H180v160Zm440 0h160v-160H620v160ZM180-180h160v-160H180v160Zm440 0h160v-160H620v160Z\"/>\n",
              "  </svg>\n",
              "    </button>\n",
              "\n",
              "  <style>\n",
              "    .colab-df-container {\n",
              "      display:flex;\n",
              "      gap: 12px;\n",
              "    }\n",
              "\n",
              "    .colab-df-convert {\n",
              "      background-color: #E8F0FE;\n",
              "      border: none;\n",
              "      border-radius: 50%;\n",
              "      cursor: pointer;\n",
              "      display: none;\n",
              "      fill: #1967D2;\n",
              "      height: 32px;\n",
              "      padding: 0 0 0 0;\n",
              "      width: 32px;\n",
              "    }\n",
              "\n",
              "    .colab-df-convert:hover {\n",
              "      background-color: #E2EBFA;\n",
              "      box-shadow: 0px 1px 2px rgba(60, 64, 67, 0.3), 0px 1px 3px 1px rgba(60, 64, 67, 0.15);\n",
              "      fill: #174EA6;\n",
              "    }\n",
              "\n",
              "    .colab-df-buttons div {\n",
              "      margin-bottom: 4px;\n",
              "    }\n",
              "\n",
              "    [theme=dark] .colab-df-convert {\n",
              "      background-color: #3B4455;\n",
              "      fill: #D2E3FC;\n",
              "    }\n",
              "\n",
              "    [theme=dark] .colab-df-convert:hover {\n",
              "      background-color: #434B5C;\n",
              "      box-shadow: 0px 1px 3px 1px rgba(0, 0, 0, 0.15);\n",
              "      filter: drop-shadow(0px 1px 2px rgba(0, 0, 0, 0.3));\n",
              "      fill: #FFFFFF;\n",
              "    }\n",
              "  </style>\n",
              "\n",
              "    <script>\n",
              "      const buttonEl =\n",
              "        document.querySelector('#df-d9d58e96-8a74-4193-82d2-9278a505f603 button.colab-df-convert');\n",
              "      buttonEl.style.display =\n",
              "        google.colab.kernel.accessAllowed ? 'block' : 'none';\n",
              "\n",
              "      async function convertToInteractive(key) {\n",
              "        const element = document.querySelector('#df-d9d58e96-8a74-4193-82d2-9278a505f603');\n",
              "        const dataTable =\n",
              "          await google.colab.kernel.invokeFunction('convertToInteractive',\n",
              "                                                    [key], {});\n",
              "        if (!dataTable) return;\n",
              "\n",
              "        const docLinkHtml = 'Like what you see? Visit the ' +\n",
              "          '<a target=\"_blank\" href=https://colab.research.google.com/notebooks/data_table.ipynb>data table notebook</a>'\n",
              "          + ' to learn more about interactive tables.';\n",
              "        element.innerHTML = '';\n",
              "        dataTable['output_type'] = 'display_data';\n",
              "        await google.colab.output.renderOutput(dataTable, element);\n",
              "        const docLink = document.createElement('div');\n",
              "        docLink.innerHTML = docLinkHtml;\n",
              "        element.appendChild(docLink);\n",
              "      }\n",
              "    </script>\n",
              "  </div>\n",
              "\n",
              "\n",
              "<div id=\"df-3f941725-62a1-47fd-a0e4-7e0314e5c97f\">\n",
              "  <button class=\"colab-df-quickchart\" onclick=\"quickchart('df-3f941725-62a1-47fd-a0e4-7e0314e5c97f')\"\n",
              "            title=\"Suggest charts\"\n",
              "            style=\"display:none;\">\n",
              "\n",
              "<svg xmlns=\"http://www.w3.org/2000/svg\" height=\"24px\"viewBox=\"0 0 24 24\"\n",
              "     width=\"24px\">\n",
              "    <g>\n",
              "        <path d=\"M19 3H5c-1.1 0-2 .9-2 2v14c0 1.1.9 2 2 2h14c1.1 0 2-.9 2-2V5c0-1.1-.9-2-2-2zM9 17H7v-7h2v7zm4 0h-2V7h2v10zm4 0h-2v-4h2v4z\"/>\n",
              "    </g>\n",
              "</svg>\n",
              "  </button>\n",
              "\n",
              "<style>\n",
              "  .colab-df-quickchart {\n",
              "      --bg-color: #E8F0FE;\n",
              "      --fill-color: #1967D2;\n",
              "      --hover-bg-color: #E2EBFA;\n",
              "      --hover-fill-color: #174EA6;\n",
              "      --disabled-fill-color: #AAA;\n",
              "      --disabled-bg-color: #DDD;\n",
              "  }\n",
              "\n",
              "  [theme=dark] .colab-df-quickchart {\n",
              "      --bg-color: #3B4455;\n",
              "      --fill-color: #D2E3FC;\n",
              "      --hover-bg-color: #434B5C;\n",
              "      --hover-fill-color: #FFFFFF;\n",
              "      --disabled-bg-color: #3B4455;\n",
              "      --disabled-fill-color: #666;\n",
              "  }\n",
              "\n",
              "  .colab-df-quickchart {\n",
              "    background-color: var(--bg-color);\n",
              "    border: none;\n",
              "    border-radius: 50%;\n",
              "    cursor: pointer;\n",
              "    display: none;\n",
              "    fill: var(--fill-color);\n",
              "    height: 32px;\n",
              "    padding: 0;\n",
              "    width: 32px;\n",
              "  }\n",
              "\n",
              "  .colab-df-quickchart:hover {\n",
              "    background-color: var(--hover-bg-color);\n",
              "    box-shadow: 0 1px 2px rgba(60, 64, 67, 0.3), 0 1px 3px 1px rgba(60, 64, 67, 0.15);\n",
              "    fill: var(--button-hover-fill-color);\n",
              "  }\n",
              "\n",
              "  .colab-df-quickchart-complete:disabled,\n",
              "  .colab-df-quickchart-complete:disabled:hover {\n",
              "    background-color: var(--disabled-bg-color);\n",
              "    fill: var(--disabled-fill-color);\n",
              "    box-shadow: none;\n",
              "  }\n",
              "\n",
              "  .colab-df-spinner {\n",
              "    border: 2px solid var(--fill-color);\n",
              "    border-color: transparent;\n",
              "    border-bottom-color: var(--fill-color);\n",
              "    animation:\n",
              "      spin 1s steps(1) infinite;\n",
              "  }\n",
              "\n",
              "  @keyframes spin {\n",
              "    0% {\n",
              "      border-color: transparent;\n",
              "      border-bottom-color: var(--fill-color);\n",
              "      border-left-color: var(--fill-color);\n",
              "    }\n",
              "    20% {\n",
              "      border-color: transparent;\n",
              "      border-left-color: var(--fill-color);\n",
              "      border-top-color: var(--fill-color);\n",
              "    }\n",
              "    30% {\n",
              "      border-color: transparent;\n",
              "      border-left-color: var(--fill-color);\n",
              "      border-top-color: var(--fill-color);\n",
              "      border-right-color: var(--fill-color);\n",
              "    }\n",
              "    40% {\n",
              "      border-color: transparent;\n",
              "      border-right-color: var(--fill-color);\n",
              "      border-top-color: var(--fill-color);\n",
              "    }\n",
              "    60% {\n",
              "      border-color: transparent;\n",
              "      border-right-color: var(--fill-color);\n",
              "    }\n",
              "    80% {\n",
              "      border-color: transparent;\n",
              "      border-right-color: var(--fill-color);\n",
              "      border-bottom-color: var(--fill-color);\n",
              "    }\n",
              "    90% {\n",
              "      border-color: transparent;\n",
              "      border-bottom-color: var(--fill-color);\n",
              "    }\n",
              "  }\n",
              "</style>\n",
              "\n",
              "  <script>\n",
              "    async function quickchart(key) {\n",
              "      const quickchartButtonEl =\n",
              "        document.querySelector('#' + key + ' button');\n",
              "      quickchartButtonEl.disabled = true;  // To prevent multiple clicks.\n",
              "      quickchartButtonEl.classList.add('colab-df-spinner');\n",
              "      try {\n",
              "        const charts = await google.colab.kernel.invokeFunction(\n",
              "            'suggestCharts', [key], {});\n",
              "      } catch (error) {\n",
              "        console.error('Error during call to suggestCharts:', error);\n",
              "      }\n",
              "      quickchartButtonEl.classList.remove('colab-df-spinner');\n",
              "      quickchartButtonEl.classList.add('colab-df-quickchart-complete');\n",
              "    }\n",
              "    (() => {\n",
              "      let quickchartButtonEl =\n",
              "        document.querySelector('#df-3f941725-62a1-47fd-a0e4-7e0314e5c97f button');\n",
              "      quickchartButtonEl.style.display =\n",
              "        google.colab.kernel.accessAllowed ? 'block' : 'none';\n",
              "    })();\n",
              "  </script>\n",
              "</div>\n",
              "\n",
              "    </div>\n",
              "  </div>\n"
            ],
            "application/vnd.google.colaboratory.intrinsic+json": {
              "type": "dataframe",
              "variable_name": "df"
            }
          },
          "metadata": {},
          "execution_count": 18
        }
      ]
    },
    {
      "cell_type": "code",
      "source": [
        "df.info()"
      ],
      "metadata": {
        "colab": {
          "base_uri": "https://localhost:8080/"
        },
        "id": "51PlfenTomK9",
        "outputId": "dbffb3b9-35d8-4f3e-f854-a511b3352f38"
      },
      "execution_count": 21,
      "outputs": [
        {
          "output_type": "stream",
          "name": "stdout",
          "text": [
            "<class 'pandas.core.frame.DataFrame'>\n",
            "RangeIndex: 74111 entries, 0 to 74110\n",
            "Data columns (total 29 columns):\n",
            " #   Column                  Non-Null Count  Dtype  \n",
            "---  ------                  --------------  -----  \n",
            " 0   id                      74111 non-null  int64  \n",
            " 1   log_price               74111 non-null  float64\n",
            " 2   property_type           74111 non-null  object \n",
            " 3   room_type               74111 non-null  object \n",
            " 4   amenities               74111 non-null  object \n",
            " 5   accommodates            74111 non-null  int64  \n",
            " 6   bathrooms               73911 non-null  float64\n",
            " 7   bed_type                74111 non-null  object \n",
            " 8   cancellation_policy     74111 non-null  object \n",
            " 9   cleaning_fee            74111 non-null  bool   \n",
            " 10  city                    74111 non-null  object \n",
            " 11  description             74105 non-null  object \n",
            " 12  first_review            58247 non-null  object \n",
            " 13  host_has_profile_pic    73923 non-null  object \n",
            " 14  host_identity_verified  73923 non-null  object \n",
            " 15  host_response_rate      55812 non-null  float64\n",
            " 16  host_since              73923 non-null  object \n",
            " 17  instant_bookable        74111 non-null  object \n",
            " 18  last_review             58284 non-null  object \n",
            " 19  latitude                74111 non-null  float64\n",
            " 20  longitude               74111 non-null  float64\n",
            " 21  name                    74101 non-null  object \n",
            " 22  neighbourhood           67239 non-null  object \n",
            " 23  number_of_reviews       74111 non-null  int64  \n",
            " 24  review_scores_rating    57389 non-null  float64\n",
            " 25  thumbnail_url           65895 non-null  object \n",
            " 26  zipcode                 73145 non-null  object \n",
            " 27  bedrooms                74020 non-null  float64\n",
            " 28  beds                    73980 non-null  float64\n",
            "dtypes: bool(1), float64(8), int64(3), object(17)\n",
            "memory usage: 15.9+ MB\n"
          ]
        }
      ]
    },
    {
      "cell_type": "code",
      "source": [
        "df.isna().sum()"
      ],
      "metadata": {
        "colab": {
          "base_uri": "https://localhost:8080/"
        },
        "id": "bTWDFsmgo0Ad",
        "outputId": "0072bf9b-eafa-4d4b-8fd3-7d49d0c369a6"
      },
      "execution_count": 24,
      "outputs": [
        {
          "output_type": "execute_result",
          "data": {
            "text/plain": [
              "id                            0\n",
              "log_price                     0\n",
              "property_type                 0\n",
              "room_type                     0\n",
              "amenities                     0\n",
              "accommodates                  0\n",
              "bathrooms                   200\n",
              "bed_type                      0\n",
              "cancellation_policy           0\n",
              "cleaning_fee                  0\n",
              "city                          0\n",
              "description                   6\n",
              "first_review              15864\n",
              "host_has_profile_pic        188\n",
              "host_identity_verified      188\n",
              "host_response_rate        18299\n",
              "host_since                  188\n",
              "instant_bookable              0\n",
              "last_review               15827\n",
              "latitude                      0\n",
              "longitude                     0\n",
              "name                         10\n",
              "neighbourhood              6872\n",
              "number_of_reviews             0\n",
              "review_scores_rating      16722\n",
              "thumbnail_url              8216\n",
              "zipcode                     966\n",
              "bedrooms                     91\n",
              "beds                        131\n",
              "dtype: int64"
            ]
          },
          "metadata": {},
          "execution_count": 24
        }
      ]
    },
    {
      "cell_type": "code",
      "source": [
        "from datetime import datetime\n",
        "\n",
        "# Convert 'host_since' and 'last_review' columns to datetime objects\n",
        "df['host_since'] = pd.to_datetime(df['host_since'])\n",
        "df['last_review'] = pd.to_datetime(df['last_review'])"
      ],
      "metadata": {
        "id": "Xr7IdU0wo_md"
      },
      "execution_count": 25,
      "outputs": []
    },
    {
      "cell_type": "code",
      "source": [
        "# Calculate Host_Tenure\n",
        "current_date = datetime.now()\n",
        "df['Host_Tenure'] = (current_date - df['host_since']).dt.days / 365.25  # Dividing by 365.25 to get years accurately"
      ],
      "metadata": {
        "id": "qKGPselIqHzF"
      },
      "execution_count": 26,
      "outputs": []
    },
    {
      "cell_type": "code",
      "source": [
        "# Generate Amenities_Count\n",
        "df['Amenities_Count'] = df['amenities'].apply(lambda x: len(x.split(',')))"
      ],
      "metadata": {
        "id": "ZUE3cKonqLow"
      },
      "execution_count": 28,
      "outputs": []
    },
    {
      "cell_type": "code",
      "source": [
        "# Determine Days_Since_Last_Review\n",
        "df['Days_Since_Last_Review'] = (current_date - df['last_review']).dt.days"
      ],
      "metadata": {
        "id": "SYcGaA16qOii"
      },
      "execution_count": 29,
      "outputs": []
    },
    {
      "cell_type": "code",
      "source": [
        "# Handling missing values\n",
        "df['Amenities_Count'].fillna(0, inplace=True)  # Treat missing values in Amenities_Count as 0\n",
        "df.dropna(subset=['host_since', 'last_review'], inplace=True)  # Drop rows with missing host_since or last_review values"
      ],
      "metadata": {
        "id": "1hZa-bJqqQ7H"
      },
      "execution_count": 30,
      "outputs": []
    },
    {
      "cell_type": "code",
      "source": [
        "# Display the updated dataframe\n",
        "df.head()"
      ],
      "metadata": {
        "id": "JQ4yCZpDqUGX"
      },
      "execution_count": null,
      "outputs": []
    },
    {
      "cell_type": "code",
      "source": [
        "import pandas as pd\n",
        "import seaborn as sns\n",
        "import matplotlib.pyplot as plt\n",
        "\n",
        "# Correlation Analysis\n",
        "corr_matrix = df.corr()\n",
        "plt.figure(figsize=(10, 8))\n",
        "sns.heatmap(corr_matrix, annot=True, cmap='coolwarm', fmt=\".2f\")\n",
        "plt.title('Correlation Matrix')\n",
        "plt.show()"
      ],
      "metadata": {
        "id": "A5HCaBSQqcGe"
      },
      "execution_count": null,
      "outputs": []
    },
    {
      "cell_type": "code",
      "source": [
        "\n",
        "\n",
        "# Distribution Analysis\n",
        "plt.figure(figsize=(10, 6))\n",
        "sns.histplot(df['log_price'], kde=True, color='blue', bins=30)\n",
        "plt.title('Distribution of Log Price')\n",
        "plt.xlabel('Log Price')\n",
        "plt.ylabel('Frequency')\n",
        "plt.show()\n",
        "\n",
        "# Categorical Analysis\n",
        "plt.figure(figsize=(12, 6))\n",
        "sns.boxplot(x='room_type', y='log_price', data=df)\n",
        "plt.title('Log Price vs Room Type')\n",
        "plt.xlabel('Room Type')\n",
        "plt.ylabel('Log Price')\n",
        "plt.show()\n",
        "\n",
        "plt.figure(figsize=(12, 6))\n",
        "sns.boxplot(x='property_type', y='log_price', data=df)\n",
        "plt.title('Log Price vs Property Type')\n",
        "plt.xlabel('Property Type')\n",
        "plt.ylabel('Log Price')\n",
        "plt.xticks(rotation=45)\n",
        "plt.show()\n",
        "\n",
        "# Scatter Plots\n",
        "plt.figure(figsize=(10, 6))\n",
        "sns.scatterplot(x='accommodates', y='log_price', data=df)\n",
        "plt.title('Log Price vs Accommodates')\n",
        "plt.xlabel('Accommodates')\n",
        "plt.ylabel('Log Price')\n",
        "plt.show()\n",
        "\n",
        "plt.figure(figsize=(10, 6))\n",
        "sns.scatterplot(x='number_of_reviews', y='log_price', data=df)\n",
        "plt.title('Log Price vs Number of Reviews')\n",
        "plt.xlabel('Number of Reviews')\n",
        "plt.ylabel('Log Price')\n",
        "plt.show()\n"
      ],
      "metadata": {
        "id": "GnKgPCbWrRef"
      },
      "execution_count": null,
      "outputs": []
    },
    {
      "cell_type": "code",
      "source": [
        "df['city'].unique()"
      ],
      "metadata": {
        "colab": {
          "base_uri": "https://localhost:8080/"
        },
        "id": "agBhJdHTr67n",
        "outputId": "70969d95-5b88-4c9c-e4ee-53a2769bb062"
      },
      "execution_count": 36,
      "outputs": [
        {
          "output_type": "execute_result",
          "data": {
            "text/plain": [
              "array(['NYC', 'DC', 'SF', 'LA', 'Chicago', 'Boston'], dtype=object)"
            ]
          },
          "metadata": {},
          "execution_count": 36
        }
      ]
    },
    {
      "cell_type": "code",
      "source": [],
      "metadata": {
        "id": "Jclhdr5Yr-iK"
      },
      "execution_count": null,
      "outputs": []
    }
  ]
}